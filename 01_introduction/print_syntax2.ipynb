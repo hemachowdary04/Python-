{
 "cells": [
  {
   "cell_type": "code",
   "execution_count": 4,
   "id": "7671f519",
   "metadata": {},
   "outputs": [
    {
     "name": "stdout",
     "output_type": "stream",
     "text": [
      "hello world python\n",
      "hello \tworld \t python\n",
      "hello \tworld \n",
      "python\n"
     ]
    }
   ],
   "source": [
    "print(\"hello world python\")\n",
    "print(\"hello \\tworld \\t python\")\n",
    "print(\"hello \\tworld \\npython\")"
   ]
  },
  {
   "cell_type": "code",
   "execution_count": 6,
   "id": "34355a80",
   "metadata": {},
   "outputs": [
    {
     "name": "stdout",
     "output_type": "stream",
     "text": [
      "hello\n",
      "world\n"
     ]
    }
   ],
   "source": [
    "print(\"hello\",end=\"\\n\")\n",
    "print(\"world\")"
   ]
  },
  {
   "cell_type": "code",
   "execution_count": 7,
   "id": "58a199d6",
   "metadata": {},
   "outputs": [
    {
     "name": "stdout",
     "output_type": "stream",
     "text": [
      "hello___world\n"
     ]
    }
   ],
   "source": [
    "print(\"hello\",end=\"___\")\n",
    "print(\"world\")"
   ]
  },
  {
   "cell_type": "code",
   "execution_count": 9,
   "id": "738fbafc",
   "metadata": {},
   "outputs": [
    {
     "name": "stdout",
     "output_type": "stream",
     "text": [
      "1:2:3:4:5\ta/b/c/d/e\n"
     ]
    }
   ],
   "source": [
    "print(1, 2, 3, 4, 5,sep=\":\",end=\"\\t\")\n",
    "print(\"a\",\"b\",\"c\",\"d\",\"e\",sep=\"/\")"
   ]
  },
  {
   "cell_type": "code",
   "execution_count": 11,
   "id": "a3aa6ce1",
   "metadata": {},
   "outputs": [
    {
     "name": "stdout",
     "output_type": "stream",
     "text": [
      "hi\n",
      "firssecond\n",
      "\bsecond\n",
      "secon\n"
     ]
    }
   ],
   "source": [
    "#\\b\n",
    "print(\"he\\bi\")\n",
    "print(\"first\\bsecond\")\n",
    "print(\"\\bsecond\")\n",
    "print(\"second\\b\")"
   ]
  },
  {
   "cell_type": "code",
   "execution_count": 12,
   "id": "45261c45",
   "metadata": {},
   "outputs": [
    {
     "name": "stdout",
     "output_type": "stream",
     "text": [
      "ie\n",
      "34\n",
      "second\n",
      "dog4567\n"
     ]
    }
   ],
   "source": [
    "#\\r\n",
    "print(\"he\\ri\")\n",
    "print(\"12\\r34\")\n",
    "print(\"first\\rsecond\")\n",
    "print(\"1234567\\rdog\")"
   ]
  },
  {
   "cell_type": "code",
   "execution_count": 13,
   "id": "b7844a50",
   "metadata": {},
   "outputs": [
    {
     "name": "stdout",
     "output_type": "stream",
     "text": [
      "₉\n",
      "Ǝ\n",
      "&\n"
     ]
    }
   ],
   "source": [
    "#unicode characters\n",
    "print(\"\\u2089\")\n",
    "print(\"\\u018e\")\n",
    "print(\"\\046\")"
   ]
  },
  {
   "cell_type": "code",
   "execution_count": 14,
   "id": "75fc9c23",
   "metadata": {},
   "outputs": [
    {
     "name": "stdout",
     "output_type": "stream",
     "text": [
      "$\n",
      "ñ\n"
     ]
    }
   ],
   "source": [
    "#hexadecimal value\n",
    "print(\"\\x24\")\n",
    "print(\"\\xf1\")"
   ]
  }
 ],
 "metadata": {
  "kernelspec": {
   "display_name": "Python 3",
   "language": "python",
   "name": "python3"
  },
  "language_info": {
   "codemirror_mode": {
    "name": "ipython",
    "version": 3
   },
   "file_extension": ".py",
   "mimetype": "text/x-python",
   "name": "python",
   "nbconvert_exporter": "python",
   "pygments_lexer": "ipython3",
   "version": "3.12.1"
  }
 },
 "nbformat": 4,
 "nbformat_minor": 5
}
