{
 "cells": [
  {
   "cell_type": "code",
   "execution_count": 2,
   "id": "b40c6732",
   "metadata": {},
   "outputs": [
    {
     "name": "stdout",
     "output_type": "stream",
     "text": [
      "python programming <class 'str'>\n"
     ]
    }
   ],
   "source": [
    "Name = 'python programming'\n",
    "print(Name,type(Name))"
   ]
  },
  {
   "cell_type": "code",
   "execution_count": 3,
   "id": "850374a9",
   "metadata": {},
   "outputs": [
    {
     "name": "stdout",
     "output_type": "stream",
     "text": [
      "python programming <class 'str'>\n"
     ]
    }
   ],
   "source": [
    "Name = \"python programming\"\n",
    "print(Name,type(Name))"
   ]
  },
  {
   "cell_type": "code",
   "execution_count": 4,
   "id": "30564dc8",
   "metadata": {},
   "outputs": [
    {
     "name": "stdout",
     "output_type": "stream",
     "text": [
      "python programming <class 'str'>\n"
     ]
    }
   ],
   "source": [
    "Name = '''python programming'''\n",
    "print(Name,type(Name))"
   ]
  },
  {
   "cell_type": "code",
   "execution_count": 5,
   "id": "bde7dea9",
   "metadata": {},
   "outputs": [
    {
     "name": "stdout",
     "output_type": "stream",
     "text": [
      "python programming <class 'str'>\n"
     ]
    }
   ],
   "source": [
    "Name = \"\"\"python programming\"\"\"\n",
    "print(Name,type(Name))"
   ]
  },
  {
   "cell_type": "code",
   "execution_count": 6,
   "id": "966300ca",
   "metadata": {},
   "outputs": [
    {
     "name": "stdout",
     "output_type": "stream",
     "text": [
      "how are you ? <class 'str'>\n"
     ]
    }
   ],
   "source": [
    "question = 'how are you ?'\n",
    "print(question,type(question))"
   ]
  },
  {
   "cell_type": "code",
   "execution_count": 7,
   "id": "a0a01e69",
   "metadata": {},
   "outputs": [
    {
     "ename": "SyntaxError",
     "evalue": "unterminated string literal (detected at line 1) (2002953641.py, line 1)",
     "output_type": "error",
     "traceback": [
      "  \u001b[36mCell\u001b[39m\u001b[36m \u001b[39m\u001b[32mIn[7]\u001b[39m\u001b[32m, line 1\u001b[39m\n\u001b[31m    \u001b[39m\u001b[31mwhere_abouts = 'what's up'\u001b[39m\n                             ^\n\u001b[31mSyntaxError\u001b[39m\u001b[31m:\u001b[39m unterminated string literal (detected at line 1)\n"
     ]
    }
   ],
   "source": [
    "where_abouts = 'what's up'\n",
    "print(where_abouts)"
   ]
  },
  {
   "cell_type": "markdown",
   "id": "00d36a41",
   "metadata": {},
   "source": [
    "throws an error because there is a quote in between so we need to use slash\\ to escape  in this kind of cases"
   ]
  },
  {
   "cell_type": "code",
   "execution_count": 8,
   "id": "ceb2a43b",
   "metadata": {},
   "outputs": [
    {
     "name": "stdout",
     "output_type": "stream",
     "text": [
      "what's up\n"
     ]
    }
   ],
   "source": [
    "where_abouts = 'what\\'s up'\n",
    "print(where_abouts)"
   ]
  },
  {
   "cell_type": "code",
   "execution_count": 9,
   "id": "9f900f6a",
   "metadata": {},
   "outputs": [
    {
     "ename": "SyntaxError",
     "evalue": "unterminated string literal (detected at line 1) (3982806767.py, line 1)",
     "output_type": "error",
     "traceback": [
      "  \u001b[36mCell\u001b[39m\u001b[36m \u001b[39m\u001b[32mIn[9]\u001b[39m\u001b[32m, line 1\u001b[39m\n\u001b[31m    \u001b[39m\u001b[31mother_string = 'what's going on in your's in-law's house'\u001b[39m\n                                                            ^\n\u001b[31mSyntaxError\u001b[39m\u001b[31m:\u001b[39m unterminated string literal (detected at line 1)\n"
     ]
    }
   ],
   "source": [
    "other_string = 'what's going on in your's in-law's house'\n",
    "print(other_string)"
   ]
  },
  {
   "cell_type": "code",
   "execution_count": 11,
   "id": "ab3aca39",
   "metadata": {},
   "outputs": [
    {
     "name": "stdout",
     "output_type": "stream",
     "text": [
      "what's going on in your's in-law's house\n"
     ]
    }
   ],
   "source": [
    "other_string = 'what\\'s going on in your\\'s in-law\\'s house'\n",
    "print(other_string)"
   ]
  },
  {
   "cell_type": "markdown",
   "id": "08daa324",
   "metadata": {},
   "source": [
    "practically the problem is solved but in the case of a large string it will be difficult to place a \\ infront of every ' so we can use \" instead of '"
   ]
  },
  {
   "cell_type": "code",
   "execution_count": 12,
   "id": "6ee93447",
   "metadata": {},
   "outputs": [
    {
     "name": "stdout",
     "output_type": "stream",
     "text": [
      "what's going on in your's in-law's house\n"
     ]
    }
   ],
   "source": [
    "other_string = \"what's going on in your's in-law's house\"\n",
    "print(other_string)"
   ]
  },
  {
   "cell_type": "code",
   "execution_count": null,
   "id": "61128939",
   "metadata": {},
   "outputs": [
    {
     "ename": "SyntaxError",
     "evalue": "invalid syntax (2405531270.py, line 1)",
     "output_type": "error",
     "traceback": [
      "  \u001b[36mCell\u001b[39m\u001b[36m \u001b[39m\u001b[32mIn[14]\u001b[39m\u001b[32m, line 1\u001b[39m\n\u001b[31m    \u001b[39m\u001b[31msl_cmd = \"select * from mytable where name = 'hema' and profession like \"%work\"\"\u001b[39m\n                                                                                  ^\n\u001b[31mSyntaxError\u001b[39m\u001b[31m:\u001b[39m invalid syntax\n"
     ]
    }
   ],
   "source": [
    "sql_cmd = \"select * from mytable where name = 'hema' and profession like \"%work\"\"\n",
    "print(sql_cmd)"
   ]
  },
  {
   "cell_type": "markdown",
   "id": "506fdd10",
   "metadata": {},
   "source": [
    "we can use ''' ****** ''' in this case"
   ]
  },
  {
   "cell_type": "code",
   "execution_count": 16,
   "id": "4d5e7f7b",
   "metadata": {},
   "outputs": [
    {
     "name": "stdout",
     "output_type": "stream",
     "text": [
      "select * from mytable where name = 'hema' and profession like \"%work\"\n"
     ]
    }
   ],
   "source": [
    "sql_cmd = '''select * from mytable where name = 'hema' and profession like \"%work\"'''\n",
    "print(sql_cmd)"
   ]
  },
  {
   "cell_type": "markdown",
   "id": "741ad257",
   "metadata": {},
   "source": [
    "multi line strings"
   ]
  },
  {
   "cell_type": "code",
   "execution_count": 17,
   "id": "15111cce",
   "metadata": {},
   "outputs": [
    {
     "ename": "SyntaxError",
     "evalue": "unterminated string literal (detected at line 2) (2286288243.py, line 2)",
     "output_type": "error",
     "traceback": [
      "  \u001b[36mCell\u001b[39m\u001b[36m \u001b[39m\u001b[32mIn[17]\u001b[39m\u001b[32m, line 2\u001b[39m\n\u001b[31m    \u001b[39m\u001b[31m\"today is amazing day\u001b[39m\n    ^\n\u001b[31mSyntaxError\u001b[39m\u001b[31m:\u001b[39m unterminated string literal (detected at line 2)\n"
     ]
    }
   ],
   "source": [
    "print(\n",
    "    \"today is amazing day\n",
    "    to learn python \"\n",
    ")"
   ]
  },
  {
   "cell_type": "markdown",
   "id": "311ae4d7",
   "metadata": {},
   "source": [
    "\\ - line continuation operator\n"
   ]
  },
  {
   "cell_type": "code",
   "execution_count": 19,
   "id": "bd08a9ad",
   "metadata": {},
   "outputs": [
    {
     "name": "stdout",
     "output_type": "stream",
     "text": [
      "today is amazing day    to learn python \n"
     ]
    }
   ],
   "source": [
    "print(\n",
    "    'today is amazing day\\\n",
    "    to learn python '\n",
    ")"
   ]
  },
  {
   "cell_type": "code",
   "execution_count": 20,
   "id": "4060b93a",
   "metadata": {},
   "outputs": [
    {
     "name": "stdout",
     "output_type": "stream",
     "text": [
      "today is amazing day    to learn python \n"
     ]
    }
   ],
   "source": [
    "print(\n",
    "    \"today is amazing day\\\n",
    "    to learn python \"\n",
    ")"
   ]
  },
  {
   "cell_type": "code",
   "execution_count": 21,
   "id": "c8b8b39a",
   "metadata": {},
   "outputs": [
    {
     "name": "stdout",
     "output_type": "stream",
     "text": [
      "today is amazing day    to learn python \n"
     ]
    }
   ],
   "source": [
    "print(\n",
    "    '''today is amazing day\\\n",
    "    to learn python '''\n",
    ")"
   ]
  },
  {
   "cell_type": "code",
   "execution_count": 22,
   "id": "1d027d88",
   "metadata": {},
   "outputs": [
    {
     "name": "stdout",
     "output_type": "stream",
     "text": [
      "today is amazing day    to learn python \n"
     ]
    }
   ],
   "source": [
    "print(\n",
    "    \"\"\"today is amazing day\\\n",
    "    to learn python \"\"\"\n",
    ")"
   ]
  },
  {
   "cell_type": "markdown",
   "id": "3a3fa854",
   "metadata": {},
   "source": [
    "by default triple quotes are designed for multiline"
   ]
  },
  {
   "cell_type": "code",
   "execution_count": 23,
   "id": "741ee51b",
   "metadata": {},
   "outputs": [
    {
     "name": "stdout",
     "output_type": "stream",
     "text": [
      "today is amazing day\n",
      "    to learn python \n"
     ]
    }
   ],
   "source": [
    "print(\n",
    "    '''today is amazing day\n",
    "    to learn python '''\n",
    ")"
   ]
  },
  {
   "cell_type": "code",
   "execution_count": 24,
   "id": "1828c4b1",
   "metadata": {},
   "outputs": [
    {
     "name": "stdout",
     "output_type": "stream",
     "text": [
      "today is amazing day\n",
      "    to learn python \n"
     ]
    }
   ],
   "source": [
    "print(\n",
    "    \"\"\"today is amazing day\n",
    "    to learn python \"\"\"\n",
    ")"
   ]
  },
  {
   "cell_type": "code",
   "execution_count": 25,
   "id": "cdba712f",
   "metadata": {},
   "outputs": [
    {
     "name": "stdout",
     "output_type": "stream",
     "text": [
      "\n",
      "    a- apple\n",
      "    b- ball\n",
      "    c- cat\n",
      "    d- dog\n",
      "    \n"
     ]
    }
   ],
   "source": [
    "print(\n",
    "    \"\"\"\n",
    "    a- apple\n",
    "    b- ball\n",
    "    c- cat\n",
    "    d- dog\n",
    "    \"\"\"\n",
    ")"
   ]
  },
  {
   "cell_type": "code",
   "execution_count": 26,
   "id": "cdda5cd2",
   "metadata": {},
   "outputs": [
    {
     "ename": "SyntaxError",
     "evalue": "unterminated string literal (detected at line 1) (2194356862.py, line 1)",
     "output_type": "error",
     "traceback": [
      "  \u001b[36mCell\u001b[39m\u001b[36m \u001b[39m\u001b[32mIn[26]\u001b[39m\u001b[32m, line 1\u001b[39m\n\u001b[31m    \u001b[39m\u001b[31msql_cmd = ''' select name = 'dijango''''\u001b[39m\n                                           ^\n\u001b[31mSyntaxError\u001b[39m\u001b[31m:\u001b[39m unterminated string literal (detected at line 1)\n"
     ]
    }
   ],
   "source": [
    "sql_cmd = ''' select name = 'dijango''''"
   ]
  },
  {
   "cell_type": "markdown",
   "id": "6ee2963a",
   "metadata": {},
   "source": [
    "throws an errorm because there is no apce b/w string ' and '''"
   ]
  },
  {
   "cell_type": "code",
   "execution_count": 28,
   "id": "5c4af3f7",
   "metadata": {},
   "outputs": [
    {
     "name": "stdout",
     "output_type": "stream",
     "text": [
      " select name = 'dijango' \n"
     ]
    }
   ],
   "source": [
    "sql_cmd = ''' select name = 'dijango' '''\n",
    "print(sql_cmd)"
   ]
  },
  {
   "cell_type": "code",
   "execution_count": 29,
   "id": "d3acbb82",
   "metadata": {},
   "outputs": [
    {
     "ename": "SyntaxError",
     "evalue": "unterminated string literal (detected at line 1) (585870209.py, line 1)",
     "output_type": "error",
     "traceback": [
      "  \u001b[36mCell\u001b[39m\u001b[36m \u001b[39m\u001b[32mIn[29]\u001b[39m\u001b[32m, line 1\u001b[39m\n\u001b[31m    \u001b[39m\u001b[31msql_cmd = \"\"\" select name = 'dijango\"\"\"\"\u001b[39m\n                                           ^\n\u001b[31mSyntaxError\u001b[39m\u001b[31m:\u001b[39m unterminated string literal (detected at line 1)\n"
     ]
    }
   ],
   "source": [
    "sql_cmd = \"\"\" select name = 'dijango\"\"\"\"\n",
    "print(sql_cmd)"
   ]
  },
  {
   "cell_type": "code",
   "execution_count": 30,
   "id": "d608ae9b",
   "metadata": {},
   "outputs": [
    {
     "name": "stdout",
     "output_type": "stream",
     "text": [
      " select name = 'dijango\" \n"
     ]
    }
   ],
   "source": [
    "sql_cmd = \"\"\" select name = 'dijango\" \"\"\"\n",
    "print(sql_cmd)"
   ]
  },
  {
   "cell_type": "markdown",
   "id": "cd24fb83",
   "metadata": {},
   "source": [
    "string indexing"
   ]
  },
  {
   "cell_type": "code",
   "execution_count": 31,
   "id": "39b4f4e7",
   "metadata": {},
   "outputs": [
    {
     "name": "stdout",
     "output_type": "stream",
     "text": [
      "python programming\n"
     ]
    }
   ],
   "source": [
    "language = 'python programming'\n",
    "print(language)\n"
   ]
  },
  {
   "cell_type": "code",
   "execution_count": 32,
   "id": "a2827f27",
   "metadata": {},
   "outputs": [
    {
     "name": "stdout",
     "output_type": "stream",
     "text": [
      "len(language)= 18\n"
     ]
    }
   ],
   "source": [
    "language = 'python programming'\n",
    "print('len(language)=',len(language))"
   ]
  },
  {
   "cell_type": "code",
   "execution_count": 33,
   "id": "35dcab46",
   "metadata": {},
   "outputs": [
    {
     "name": "stdout",
     "output_type": "stream",
     "text": [
      "language: python programming\n",
      "language[9]: o\n",
      "language[14]: m\n",
      "language[6]:  \n"
     ]
    }
   ],
   "source": [
    "print(\"language:\",language)\n",
    "print(\"language[9]:\",language[9])\n",
    "print(\"language[14]:\",language[14])\n",
    "print(\"language[6]:\",language[6])\n"
   ]
  },
  {
   "cell_type": "code",
   "execution_count": 34,
   "id": "e91576cb",
   "metadata": {},
   "outputs": [
    {
     "ename": "IndexError",
     "evalue": "string index out of range",
     "output_type": "error",
     "traceback": [
      "\u001b[31m---------------------------------------------------------------------------\u001b[39m",
      "\u001b[31mIndexError\u001b[39m                                Traceback (most recent call last)",
      "\u001b[36mCell\u001b[39m\u001b[36m \u001b[39m\u001b[32mIn[34]\u001b[39m\u001b[32m, line 1\u001b[39m\n\u001b[32m----> \u001b[39m\u001b[32m1\u001b[39m \u001b[38;5;28mprint\u001b[39m(\u001b[33m\"\u001b[39m\u001b[33mlanguage[18]:\u001b[39m\u001b[33m\"\u001b[39m,\u001b[43mlanguage\u001b[49m\u001b[43m[\u001b[49m\u001b[32;43m18\u001b[39;49m\u001b[43m]\u001b[49m)\n",
      "\u001b[31mIndexError\u001b[39m: string index out of range"
     ]
    }
   ],
   "source": [
    "print(\"language[18]:\",language[18])"
   ]
  },
  {
   "cell_type": "code",
   "execution_count": 35,
   "id": "6965b01e",
   "metadata": {},
   "outputs": [
    {
     "name": "stdout",
     "output_type": "stream",
     "text": [
      "language[0]: p\n",
      "language[-0]: p\n"
     ]
    }
   ],
   "source": [
    "print(\"language[0]:\",language[0])\n",
    "print(\"language[-0]:\",language[-0])"
   ]
  },
  {
   "cell_type": "code",
   "execution_count": 36,
   "id": "9fa4278d",
   "metadata": {},
   "outputs": [
    {
     "name": "stdout",
     "output_type": "stream",
     "text": [
      "language: python programming\n",
      "language[-9]: o\n",
      "language[-14]: o\n",
      "language[-6]: a\n"
     ]
    }
   ],
   "source": [
    "print(\"language:\",language)\n",
    "print(\"language[-9]:\",language[-9])\n",
    "print(\"language[-14]:\",language[-14])\n",
    "print(\"language[-6]:\",language[-6])\n"
   ]
  },
  {
   "cell_type": "code",
   "execution_count": 37,
   "id": "5f12b1ff",
   "metadata": {},
   "outputs": [
    {
     "ename": "IndexError",
     "evalue": "string index out of range",
     "output_type": "error",
     "traceback": [
      "\u001b[31m---------------------------------------------------------------------------\u001b[39m",
      "\u001b[31mIndexError\u001b[39m                                Traceback (most recent call last)",
      "\u001b[36mCell\u001b[39m\u001b[36m \u001b[39m\u001b[32mIn[37]\u001b[39m\u001b[32m, line 1\u001b[39m\n\u001b[32m----> \u001b[39m\u001b[32m1\u001b[39m \u001b[38;5;28mprint\u001b[39m(\u001b[33m\"\u001b[39m\u001b[33mlanguage[-19]:\u001b[39m\u001b[33m\"\u001b[39m,\u001b[43mlanguage\u001b[49m\u001b[43m[\u001b[49m\u001b[43m-\u001b[49m\u001b[32;43m19\u001b[39;49m\u001b[43m]\u001b[49m)\n",
      "\u001b[31mIndexError\u001b[39m: string index out of range"
     ]
    }
   ],
   "source": [
    "\n",
    "print(\"language[-19]:\",language[-19])\n",
    "\n"
   ]
  },
  {
   "cell_type": "markdown",
   "id": "6df65da2",
   "metadata": {},
   "source": [
    "lenght = n \n",
    "length can be -n to n-1"
   ]
  },
  {
   "cell_type": "markdown",
   "id": "07f90c8d",
   "metadata": {},
   "source": [
    "string slicing operation"
   ]
  },
  {
   "cell_type": "code",
   "execution_count": 38,
   "id": "a965a6c2",
   "metadata": {},
   "outputs": [
    {
     "name": "stdout",
     "output_type": "stream",
     "text": [
      "language[0:11]: python prog\n"
     ]
    }
   ],
   "source": [
    "print(\"language[0:11]:\",language[0:11])"
   ]
  },
  {
   "cell_type": "code",
   "execution_count": 39,
   "id": "b3f7bff9",
   "metadata": {},
   "outputs": [
    {
     "name": "stdout",
     "output_type": "stream",
     "text": [
      "language[5:17]: n programmin\n"
     ]
    }
   ],
   "source": [
    "print(\"language[5:17]:\",language[5:17])"
   ]
  },
  {
   "cell_type": "code",
   "execution_count": 40,
   "id": "bcd7588f",
   "metadata": {},
   "outputs": [
    {
     "name": "stdout",
     "output_type": "stream",
     "text": [
      "language[7:10]: pro\n"
     ]
    }
   ],
   "source": [
    "print(\"language[7:10]:\",language[7:10])"
   ]
  },
  {
   "cell_type": "code",
   "execution_count": 41,
   "id": "9584574a",
   "metadata": {},
   "outputs": [
    {
     "name": "stdout",
     "output_type": "stream",
     "text": [
      "language[0:5]: pytho\n",
      "language[0:6]: python\n"
     ]
    }
   ],
   "source": [
    "print(\"language[0:5]:\",language[0:5])\n",
    "print(\"language[0:6]:\",language[0:6])"
   ]
  },
  {
   "cell_type": "code",
   "execution_count": 42,
   "id": "5d301736",
   "metadata": {},
   "outputs": [
    {
     "name": "stdout",
     "output_type": "stream",
     "text": [
      "language[0:99]: python programming\n",
      "language[7:20]: programming\n",
      "language[45:53]: \n"
     ]
    }
   ],
   "source": [
    "print(\"language[0:99]:\",language[0:99])\n",
    "print(\"language[7:20]:\",language[7:20])\n",
    "print(\"language[45:53]:\",language[45:53])"
   ]
  },
  {
   "cell_type": "markdown",
   "id": "26512ff9",
   "metadata": {},
   "source": [
    "slicing operation generally has three atributes\n",
    "language[start index : stop index : step]\n",
    "default step is +1"
   ]
  },
  {
   "cell_type": "code",
   "execution_count": 3,
   "id": "115aa81d",
   "metadata": {},
   "outputs": [
    {
     "name": "stdout",
     "output_type": "stream",
     "text": [
      "programming\n",
      "programming\n"
     ]
    }
   ],
   "source": [
    "language=\"python programming\"\n",
    "print(language[7:18])\n",
    "print(language[7:18:1])"
   ]
  },
  {
   "cell_type": "markdown",
   "id": "07da2222",
   "metadata": {},
   "source": [
    "step \n",
    "[7:18:3] - 7,10,13,16"
   ]
  },
  {
   "cell_type": "code",
   "execution_count": 4,
   "id": "59acf66a",
   "metadata": {},
   "outputs": [
    {
     "name": "stdout",
     "output_type": "stream",
     "text": [
      "pgmn\n"
     ]
    }
   ],
   "source": [
    "print(language[7:18:3])"
   ]
  },
  {
   "cell_type": "code",
   "execution_count": 5,
   "id": "2353ecf9",
   "metadata": {},
   "outputs": [
    {
     "name": "stdout",
     "output_type": "stream",
     "text": [
      "language[7:18:-1]= \n"
     ]
    }
   ],
   "source": [
    "print(\"language[7:18:-1]=\",language[7:18:-1])"
   ]
  },
  {
   "cell_type": "code",
   "execution_count": 6,
   "id": "9eb1af02",
   "metadata": {},
   "outputs": [
    {
     "name": "stdout",
     "output_type": "stream",
     "text": [
      "language[17:7:-1]= gnimmargor\n"
     ]
    }
   ],
   "source": [
    "print(\"language[17:7:-1]=\",language[17:7:-1])"
   ]
  },
  {
   "cell_type": "code",
   "execution_count": 7,
   "id": "6302e094",
   "metadata": {},
   "outputs": [
    {
     "name": "stdout",
     "output_type": "stream",
     "text": [
      "language[18:6:-1]= gnimmargorp\n"
     ]
    }
   ],
   "source": [
    "print(\"language[18:6:-1]=\",language[18:6:-1])"
   ]
  },
  {
   "cell_type": "code",
   "execution_count": 8,
   "id": "8a83846c",
   "metadata": {},
   "outputs": [
    {
     "name": "stdout",
     "output_type": "stream",
     "text": [
      "language[18:6:-3]= gmrr\n"
     ]
    }
   ],
   "source": [
    "print(\"language[18:6:-3]=\",language[18:6:-3])"
   ]
  },
  {
   "cell_type": "code",
   "execution_count": 9,
   "id": "2c22ccf0",
   "metadata": {},
   "outputs": [
    {
     "name": "stdout",
     "output_type": "stream",
     "text": [
      "language[23:6:-3]= gmrr\n"
     ]
    }
   ],
   "source": [
    "print(\"language[23:6:-3]=\",language[23:6:-3])"
   ]
  },
  {
   "cell_type": "code",
   "execution_count": 10,
   "id": "4a966a35",
   "metadata": {},
   "outputs": [
    {
     "name": "stdout",
     "output_type": "stream",
     "text": [
      "language[25:6:-2]= gimrop\n"
     ]
    }
   ],
   "source": [
    "print(\"language[25:6:-2]=\",language[25:6:-2])"
   ]
  },
  {
   "cell_type": "code",
   "execution_count": 11,
   "id": "3bd7681d",
   "metadata": {},
   "outputs": [
    {
     "name": "stdout",
     "output_type": "stream",
     "text": [
      "language[0:7:+1]= python \n",
      "language[:7]= python \n"
     ]
    }
   ],
   "source": [
    "print(\"language[0:7:+1]=\",language[0:7:+1])\n",
    "print(\"language[:7]=\",language[:7])"
   ]
  },
  {
   "cell_type": "code",
   "execution_count": 12,
   "id": "840057e1",
   "metadata": {},
   "outputs": [
    {
     "name": "stdout",
     "output_type": "stream",
     "text": [
      "language[0:]= python programming\n",
      "language[6:]=  programming\n"
     ]
    }
   ],
   "source": [
    "print(\"language[0:]=\",language[0:])\n",
    "print(\"language[6:]=\",language[6:])"
   ]
  },
  {
   "cell_type": "code",
   "execution_count": null,
   "id": "c6d873be",
   "metadata": {},
   "outputs": [
    {
     "name": "stdout",
     "output_type": "stream",
     "text": [
      "language[:]= python programming\n",
      "language= python programming\n",
      "language[:]= python programming\n"
     ]
    }
   ],
   "source": [
    "print(\"language[:]=\",language[:])\n",
    "print(\"language=\",language)\n",
    "print(\"language[::]=\",language[::])"
   ]
  },
  {
   "cell_type": "code",
   "execution_count": 16,
   "id": "ce3b5f8d",
   "metadata": {},
   "outputs": [
    {
     "name": "stdout",
     "output_type": "stream",
     "text": [
      "language[::1]= python programming\n",
      "language[::3]= ph oai\n"
     ]
    }
   ],
   "source": [
    "print(\"language[::1]=\",language[::1])\n",
    "print(\"language[::3]=\",language[::3])"
   ]
  },
  {
   "cell_type": "markdown",
   "id": "651e464c",
   "metadata": {},
   "source": [
    "if the step is -ve \n",
    "start index = str len - 1\n",
    "final index = -1"
   ]
  },
  {
   "cell_type": "code",
   "execution_count": 17,
   "id": "c446696f",
   "metadata": {},
   "outputs": [
    {
     "name": "stdout",
     "output_type": "stream",
     "text": [
      "language[::-1]= gnimmargorp nohtyp\n"
     ]
    }
   ],
   "source": [
    "print(\"language[::-1]=\",language[::-1])"
   ]
  },
  {
   "cell_type": "code",
   "execution_count": 19,
   "id": "040f6cc8",
   "metadata": {},
   "outputs": [
    {
     "name": "stdout",
     "output_type": "stream",
     "text": [
      "name[:]=  varun dhawan\n",
      "name[::]=  varun dhawan\n",
      "name[::1]=  varun dhawan\n",
      "name[::-1]= nawahd nurav \n"
     ]
    }
   ],
   "source": [
    "name = \" varun dhawan\"\n",
    "print(\"name[:]=\",name[:])\n",
    "print(\"name[::]=\",name[::])\n",
    "print(\"name[::1]=\",name[::1])\n",
    "print(\"name[::-1]=\",name[::-1])\n",
    "      \n",
    "\n"
   ]
  },
  {
   "cell_type": "code",
   "execution_count": null,
   "id": "cb2bf5ec",
   "metadata": {},
   "outputs": [
    {
     "name": "stdout",
     "output_type": "stream",
     "text": [
      "name[5:0:-1 , 12:6:-1]= nurav nawahd\n"
     ]
    }
   ],
   "source": [
    "print(\"name[5:0:-1,12:6:-1]=\",name[5:0:-1],name[12:6:-1])"
   ]
  }
 ],
 "metadata": {
  "kernelspec": {
   "display_name": "Python 3",
   "language": "python",
   "name": "python3"
  },
  "language_info": {
   "codemirror_mode": {
    "name": "ipython",
    "version": 3
   },
   "file_extension": ".py",
   "mimetype": "text/x-python",
   "name": "python",
   "nbconvert_exporter": "python",
   "pygments_lexer": "ipython3",
   "version": "3.12.1"
  }
 },
 "nbformat": 4,
 "nbformat_minor": 5
}
