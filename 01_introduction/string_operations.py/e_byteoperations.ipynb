{
 "cells": [
  {
   "cell_type": "markdown",
   "id": "4c693574",
   "metadata": {},
   "source": [
    "### bytes vs str"
   ]
  },
  {
   "cell_type": "code",
   "execution_count": 5,
   "id": "6c2a0892",
   "metadata": {},
   "outputs": [
    {
     "name": "stdout",
     "output_type": "stream",
     "text": [
      "<class 'str'>\n"
     ]
    }
   ],
   "source": [
    "mystr = 'Hello world'\n",
    "print(type(mystr))"
   ]
  },
  {
   "cell_type": "code",
   "execution_count": 6,
   "id": "11076640",
   "metadata": {},
   "outputs": [
    {
     "name": "stdout",
     "output_type": "stream",
     "text": [
      "<class 'bytes'>\n"
     ]
    }
   ],
   "source": [
    "bytestr = b\"hello world\"\n",
    "print(type(bytestr))"
   ]
  },
  {
   "cell_type": "markdown",
   "id": "013123ce",
   "metadata": {},
   "source": [
    "####byte string to ordinary string"
   ]
  },
  {
   "cell_type": "code",
   "execution_count": 7,
   "id": "1c6cef4b",
   "metadata": {},
   "outputs": [
    {
     "data": {
      "text/plain": [
       "\"b'hello world'\""
      ]
     },
     "execution_count": 7,
     "metadata": {},
     "output_type": "execute_result"
    }
   ],
   "source": [
    "str(bytestr)"
   ]
  },
  {
   "cell_type": "code",
   "execution_count": 8,
   "id": "da06f746",
   "metadata": {},
   "outputs": [
    {
     "data": {
      "text/plain": [
       "'hello world'"
      ]
     },
     "execution_count": 8,
     "metadata": {},
     "output_type": "execute_result"
    }
   ],
   "source": [
    "str(bytestr, \"utf-8\")"
   ]
  },
  {
   "cell_type": "code",
   "execution_count": 9,
   "id": "99eaf851",
   "metadata": {},
   "outputs": [
    {
     "data": {
      "text/plain": [
       "'hello world'"
      ]
     },
     "execution_count": 9,
     "metadata": {},
     "output_type": "execute_result"
    }
   ],
   "source": [
    "bytestr.decode(\"utf-8\")"
   ]
  },
  {
   "cell_type": "markdown",
   "id": "f00d8a69",
   "metadata": {},
   "source": [
    "####ordinary string to byte string\n"
   ]
  },
  {
   "cell_type": "code",
   "execution_count": 10,
   "id": "e7396545",
   "metadata": {},
   "outputs": [
    {
     "ename": "TypeError",
     "evalue": "string argument without an encoding",
     "output_type": "error",
     "traceback": [
      "\u001b[31m---------------------------------------------------------------------------\u001b[39m",
      "\u001b[31mTypeError\u001b[39m                                 Traceback (most recent call last)",
      "\u001b[36mCell\u001b[39m\u001b[36m \u001b[39m\u001b[32mIn[10]\u001b[39m\u001b[32m, line 1\u001b[39m\n\u001b[32m----> \u001b[39m\u001b[32m1\u001b[39m \u001b[38;5;28;43mbytes\u001b[39;49m\u001b[43m(\u001b[49m\u001b[43mmystr\u001b[49m\u001b[43m)\u001b[49m\n",
      "\u001b[31mTypeError\u001b[39m: string argument without an encoding"
     ]
    }
   ],
   "source": [
    "bytes(mystr)"
   ]
  },
  {
   "cell_type": "code",
   "execution_count": null,
   "id": "dd56e701",
   "metadata": {},
   "outputs": [
    {
     "data": {
      "text/plain": [
       "b'Hello world'"
      ]
     },
     "execution_count": 6,
     "metadata": {},
     "output_type": "execute_result"
    }
   ],
   "source": [
    "bytes(mystr, \"utf-8\")"
   ]
  },
  {
   "cell_type": "code",
   "execution_count": null,
   "id": "9d82e47b",
   "metadata": {},
   "outputs": [
    {
     "data": {
      "text/plain": [
       "b'Hello world'"
      ]
     },
     "execution_count": 8,
     "metadata": {},
     "output_type": "execute_result"
    }
   ],
   "source": [
    "mystr.encode(\"utf-8\")"
   ]
  },
  {
   "cell_type": "markdown",
   "id": "6ed31602",
   "metadata": {},
   "source": [
    "### why utf-8"
   ]
  },
  {
   "cell_type": "code",
   "execution_count": null,
   "id": "4c2e1ad0",
   "metadata": {},
   "outputs": [
    {
     "data": {
      "text/plain": [
       "b'hema'"
      ]
     },
     "execution_count": 9,
     "metadata": {},
     "output_type": "execute_result"
    }
   ],
   "source": [
    "bytes('hema',\"utf-8\")"
   ]
  },
  {
   "cell_type": "code",
   "execution_count": null,
   "id": "9f44a358",
   "metadata": {},
   "outputs": [
    {
     "data": {
      "text/plain": [
       "b'hema'"
      ]
     },
     "execution_count": 10,
     "metadata": {},
     "output_type": "execute_result"
    }
   ],
   "source": [
    "bytes('hema',\"ascii\")"
   ]
  },
  {
   "cell_type": "markdown",
   "id": "93081258",
   "metadata": {},
   "source": [
    "#### if we use ascii to convert into bytes when unicode characters arrive ascci cant convert into bytes and throws the error"
   ]
  },
  {
   "cell_type": "code",
   "execution_count": null,
   "id": "1ecb8b2d",
   "metadata": {},
   "outputs": [
    {
     "name": "stdout",
     "output_type": "stream",
     "text": [
      "str(10): 10\n",
      "bytes(10): b'\\x00\\x00\\x00\\x00\\x00\\x00\\x00\\x00\\x00\\x00'\n"
     ]
    }
   ],
   "source": [
    "print(\"str(10):\",str(10))\n",
    "print(\"bytes(10):\",bytes(10))"
   ]
  },
  {
   "cell_type": "code",
   "execution_count": null,
   "id": "a3e658b4",
   "metadata": {},
   "outputs": [
    {
     "name": "stdout",
     "output_type": "stream",
     "text": [
      "str(range(10)): range(0, 10)\n",
      "bytes(range(10)): b'\\x00\\x01\\x02\\x03\\x04\\x05\\x06\\x07\\x08\\t'\n"
     ]
    }
   ],
   "source": [
    "print(\"str(range(10)):\",str(range(10)))\n",
    "print(\"bytes(range(10)):\",bytes(range(10)))"
   ]
  },
  {
   "cell_type": "markdown",
   "id": "ef37bb6d",
   "metadata": {},
   "source": []
  },
  {
   "cell_type": "code",
   "execution_count": null,
   "id": "a6c32bc0",
   "metadata": {},
   "outputs": [
    {
     "data": {
      "text/plain": [
       "bytes"
      ]
     },
     "execution_count": 1,
     "metadata": {},
     "output_type": "execute_result"
    }
   ],
   "source": [
    "bytes"
   ]
  },
  {
   "cell_type": "code",
   "execution_count": null,
   "id": "449f8fcc",
   "metadata": {},
   "outputs": [
    {
     "name": "stdout",
     "output_type": "stream",
     "text": [
      "b'\\x00\\x00\\x00\\x00\\x00\\x00\\x00\\x00\\x00\\x00'\n"
     ]
    }
   ],
   "source": [
    "print(bytes(10))"
   ]
  },
  {
   "cell_type": "code",
   "execution_count": null,
   "id": "d4ba137a",
   "metadata": {},
   "outputs": [
    {
     "name": "stdout",
     "output_type": "stream",
     "text": [
      "10\n"
     ]
    }
   ],
   "source": [
    "print(str(10))"
   ]
  },
  {
   "cell_type": "markdown",
   "id": "cbb8ecfd",
   "metadata": {},
   "source": [
    "## Immutability\n",
    "\n",
    "any object that doesnt support inplace changes"
   ]
  },
  {
   "cell_type": "code",
   "execution_count": 11,
   "id": "05daec98",
   "metadata": {},
   "outputs": [
    {
     "data": {
      "text/plain": [
       "'Hello world'"
      ]
     },
     "execution_count": 11,
     "metadata": {},
     "output_type": "execute_result"
    }
   ],
   "source": [
    "mystr"
   ]
  },
  {
   "cell_type": "code",
   "execution_count": 12,
   "id": "a5c50dc7",
   "metadata": {},
   "outputs": [
    {
     "data": {
      "text/plain": [
       "'w'"
      ]
     },
     "execution_count": 12,
     "metadata": {},
     "output_type": "execute_result"
    }
   ],
   "source": [
    "mystr[6]"
   ]
  },
  {
   "cell_type": "code",
   "execution_count": 13,
   "id": "c4e8edd8",
   "metadata": {},
   "outputs": [
    {
     "ename": "TypeError",
     "evalue": "'str' object does not support item assignment",
     "output_type": "error",
     "traceback": [
      "\u001b[31m---------------------------------------------------------------------------\u001b[39m",
      "\u001b[31mTypeError\u001b[39m                                 Traceback (most recent call last)",
      "\u001b[36mCell\u001b[39m\u001b[36m \u001b[39m\u001b[32mIn[13]\u001b[39m\u001b[32m, line 1\u001b[39m\n\u001b[32m----> \u001b[39m\u001b[32m1\u001b[39m \u001b[43mmystr\u001b[49m\u001b[43m[\u001b[49m\u001b[32;43m6\u001b[39;49m\u001b[43m]\u001b[49m = \u001b[33m'\u001b[39m\u001b[33mp\u001b[39m\u001b[33m'\u001b[39m\n",
      "\u001b[31mTypeError\u001b[39m: 'str' object does not support item assignment"
     ]
    }
   ],
   "source": [
    "mystr[6] = 'p'"
   ]
  },
  {
   "cell_type": "code",
   "execution_count": 14,
   "id": "ed8d1175",
   "metadata": {},
   "outputs": [
    {
     "data": {
      "text/plain": [
       "'Hello porld'"
      ]
     },
     "execution_count": 14,
     "metadata": {},
     "output_type": "execute_result"
    }
   ],
   "source": [
    "mystr.replace(\"w\",'p')"
   ]
  },
  {
   "cell_type": "code",
   "execution_count": 15,
   "id": "1127a5e4",
   "metadata": {},
   "outputs": [
    {
     "data": {
      "text/plain": [
       "'Hello world'"
      ]
     },
     "execution_count": 15,
     "metadata": {},
     "output_type": "execute_result"
    }
   ],
   "source": [
    "mystr #original object is not changing"
   ]
  },
  {
   "cell_type": "markdown",
   "id": "4ce3481c",
   "metadata": {},
   "source": [
    "#### byte arrays are mutable strings"
   ]
  },
  {
   "cell_type": "code",
   "execution_count": 16,
   "id": "d86e3af5",
   "metadata": {},
   "outputs": [
    {
     "ename": "TypeError",
     "evalue": "string argument without an encoding",
     "output_type": "error",
     "traceback": [
      "\u001b[31m---------------------------------------------------------------------------\u001b[39m",
      "\u001b[31mTypeError\u001b[39m                                 Traceback (most recent call last)",
      "\u001b[36mCell\u001b[39m\u001b[36m \u001b[39m\u001b[32mIn[16]\u001b[39m\u001b[32m, line 1\u001b[39m\n\u001b[32m----> \u001b[39m\u001b[32m1\u001b[39m \u001b[38;5;28;43mbytearray\u001b[39;49m\u001b[43m(\u001b[49m\u001b[33;43m'\u001b[39;49m\u001b[33;43mhello world\u001b[39;49m\u001b[33;43m'\u001b[39;49m\u001b[43m)\u001b[49m\n",
      "\u001b[31mTypeError\u001b[39m: string argument without an encoding"
     ]
    }
   ],
   "source": [
    " bytearray('hello world')"
   ]
  },
  {
   "cell_type": "code",
   "execution_count": 17,
   "id": "425f0751",
   "metadata": {},
   "outputs": [
    {
     "data": {
      "text/plain": [
       "bytearray(b'hello world')"
      ]
     },
     "execution_count": 17,
     "metadata": {},
     "output_type": "execute_result"
    }
   ],
   "source": [
    "bytearray(b'hello world')"
   ]
  },
  {
   "cell_type": "code",
   "execution_count": 18,
   "id": "7725eaee",
   "metadata": {},
   "outputs": [
    {
     "data": {
      "text/plain": [
       "bytearray(b'hello world')"
      ]
     },
     "execution_count": 18,
     "metadata": {},
     "output_type": "execute_result"
    }
   ],
   "source": [
    "bytearray('hello world',\"utf-8\")"
   ]
  },
  {
   "cell_type": "code",
   "execution_count": 19,
   "id": "11ca09bc",
   "metadata": {},
   "outputs": [
    {
     "data": {
      "text/plain": [
       "bytearray(b'hello world')"
      ]
     },
     "execution_count": 19,
     "metadata": {},
     "output_type": "execute_result"
    }
   ],
   "source": [
    "bytearray(\"hello world\", 'ascii')"
   ]
  },
  {
   "cell_type": "code",
   "execution_count": 20,
   "id": "b369ab67",
   "metadata": {},
   "outputs": [
    {
     "data": {
      "text/plain": [
       "bytearray(b'hello world')"
      ]
     },
     "execution_count": 20,
     "metadata": {},
     "output_type": "execute_result"
    }
   ],
   "source": [
    "bytstr = bytearray('hello world',\"utf-8\")\n",
    "bytstr"
   ]
  },
  {
   "cell_type": "code",
   "execution_count": 22,
   "id": "463308ae",
   "metadata": {},
   "outputs": [
    {
     "data": {
      "text/plain": [
       "119"
      ]
     },
     "execution_count": 22,
     "metadata": {},
     "output_type": "execute_result"
    }
   ],
   "source": [
    "bytstr[6] #gives ascii character"
   ]
  },
  {
   "cell_type": "code",
   "execution_count": 23,
   "id": "ab3fdc5a",
   "metadata": {},
   "outputs": [
    {
     "ename": "TypeError",
     "evalue": "'str' object cannot be interpreted as an integer",
     "output_type": "error",
     "traceback": [
      "\u001b[31m---------------------------------------------------------------------------\u001b[39m",
      "\u001b[31mTypeError\u001b[39m                                 Traceback (most recent call last)",
      "\u001b[36mCell\u001b[39m\u001b[36m \u001b[39m\u001b[32mIn[23]\u001b[39m\u001b[32m, line 1\u001b[39m\n\u001b[32m----> \u001b[39m\u001b[32m1\u001b[39m \u001b[43mbytstr\u001b[49m\u001b[43m[\u001b[49m\u001b[32;43m6\u001b[39;49m\u001b[43m]\u001b[49m = \u001b[33m'\u001b[39m\u001b[33mp\u001b[39m\u001b[33m'\u001b[39m\n",
      "\u001b[31mTypeError\u001b[39m: 'str' object cannot be interpreted as an integer"
     ]
    }
   ],
   "source": [
    "bytstr[6] = 'p'"
   ]
  },
  {
   "cell_type": "code",
   "execution_count": 24,
   "id": "fdd0125f",
   "metadata": {},
   "outputs": [
    {
     "data": {
      "text/plain": [
       "112"
      ]
     },
     "execution_count": 24,
     "metadata": {},
     "output_type": "execute_result"
    }
   ],
   "source": [
    "ord('p')"
   ]
  },
  {
   "cell_type": "code",
   "execution_count": 25,
   "id": "131536b6",
   "metadata": {},
   "outputs": [],
   "source": [
    "bytstr[6]= 112"
   ]
  },
  {
   "cell_type": "code",
   "execution_count": 26,
   "id": "d86ae90a",
   "metadata": {},
   "outputs": [
    {
     "data": {
      "text/plain": [
       "bytearray(b'hello porld')"
      ]
     },
     "execution_count": 26,
     "metadata": {},
     "output_type": "execute_result"
    }
   ],
   "source": [
    "bytstr"
   ]
  }
 ],
 "metadata": {
  "kernelspec": {
   "display_name": "Python 3",
   "language": "python",
   "name": "python3"
  },
  "language_info": {
   "codemirror_mode": {
    "name": "ipython",
    "version": 3
   },
   "file_extension": ".py",
   "mimetype": "text/x-python",
   "name": "python",
   "nbconvert_exporter": "python",
   "pygments_lexer": "ipython3",
   "version": "3.12.1"
  }
 },
 "nbformat": 4,
 "nbformat_minor": 5
}
