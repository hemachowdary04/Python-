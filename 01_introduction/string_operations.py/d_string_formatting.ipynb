{
 "cells": [
  {
   "cell_type": "markdown",
   "id": "2d255e17",
   "metadata": {},
   "source": [
    "#string formatting\n",
    "3 types - 1) old style\n",
    "          2) new style\n",
    "          3) f_strings"
   ]
  },
  {
   "cell_type": "code",
   "execution_count": 3,
   "id": "da7d1aa2",
   "metadata": {},
   "outputs": [
    {
     "name": "stdout",
     "output_type": "stream",
     "text": [
      "my lucky number is 12 \n"
     ]
    }
   ],
   "source": [
    "print(\"my lucky number is %d \" % 12)"
   ]
  },
  {
   "cell_type": "code",
   "execution_count": 4,
   "id": "cf92dcfa",
   "metadata": {},
   "outputs": [
    {
     "name": "stdout",
     "output_type": "stream",
     "text": [
      "my lucky number is 12.000000 \n",
      "my lucky number is 12.340000 \n",
      "my lucky number is 0.000000 \n",
      "my lucky number is 1.000000 \n"
     ]
    }
   ],
   "source": [
    "print(\"my lucky number is %f \" % 12)\n",
    "print(\"my lucky number is %f \" % 12.34)\n",
    "print(\"my lucky number is %f \" % False)\n",
    "print(\"my lucky number is %f \" % True)"
   ]
  },
  {
   "cell_type": "code",
   "execution_count": 5,
   "id": "2d254450",
   "metadata": {},
   "outputs": [
    {
     "name": "stdout",
     "output_type": "stream",
     "text": [
      "my lucky number is 12 \n",
      "my lucky number is 12.34 \n",
      "my lucky number is False \n",
      "my lucky number is True \n",
      "my lucky number is 12 \n"
     ]
    }
   ],
   "source": [
    "print(\"my lucky number is %s \" % 12)\n",
    "print(\"my lucky number is %s \" % 12.34)\n",
    "print(\"my lucky number is %s \" % False)\n",
    "print(\"my lucky number is %s \" % True)\n",
    "print(\"my lucky number is %s \" % \"12\")\n"
   ]
  },
  {
   "cell_type": "code",
   "execution_count": 6,
   "id": "f8d57869",
   "metadata": {},
   "outputs": [
    {
     "name": "stdout",
     "output_type": "stream",
     "text": [
      "my lucky number is 12 \n",
      "my lucky number is 12.34 \n",
      "my lucky number is False \n",
      "my lucky number is True \n",
      "my lucky number is '12' \n"
     ]
    }
   ],
   "source": [
    "print(\"my lucky number is %r \" % 12)\n",
    "print(\"my lucky number is %r \" % 12.34)\n",
    "print(\"my lucky number is %r \" % False)\n",
    "print(\"my lucky number is %r \" % True)\n",
    "print(\"my lucky number is %r \" % \"12\")\n"
   ]
  },
  {
   "cell_type": "code",
   "execution_count": null,
   "id": "a2f92bb8",
   "metadata": {},
   "outputs": [
    {
     "name": "stdout",
     "output_type": "stream",
     "text": [
      "12.34\n",
      "12.34\n",
      "12.3423\n"
     ]
    }
   ],
   "source": [
    "print(\"%g\" % 12.34)\n",
    "print(\"%G\" % 12.34)\n",
    "print(\"%G\" % 12.34234556677) #gives only 4 digits after decimal"
   ]
  },
  {
   "cell_type": "code",
   "execution_count": 2,
   "id": "c524edee",
   "metadata": {},
   "outputs": [
    {
     "name": "stdout",
     "output_type": "stream",
     "text": [
      "1.234000e+01\n",
      "1.234000E+01\n",
      "1.234235E+01\n"
     ]
    }
   ],
   "source": [
    "#exponntial format\n",
    "print(\"%e\" % 12.34)\n",
    "print(\"%E\" % 12.34)\n",
    "print(\"%E\" % 12.34234556677)"
   ]
  },
  {
   "cell_type": "code",
   "execution_count": 6,
   "id": "29a38ecb",
   "metadata": {},
   "outputs": [
    {
     "name": "stdout",
     "output_type": "stream",
     "text": [
      "3.141592653589793\n",
      "3\n",
      "3.141593\n",
      " 3.141593\n",
      "    3.142\n"
     ]
    }
   ],
   "source": [
    "import math\n",
    "print(math.pi)\n",
    "print(\"%d\" % math.pi)\n",
    "print(\"%f\" % math.pi)\n",
    "print(\"%9f\" % math.pi)\n",
    "print(\"%9.3f\" % math.pi)"
   ]
  },
  {
   "cell_type": "code",
   "execution_count": 7,
   "id": "9114e530",
   "metadata": {},
   "outputs": [
    {
     "name": "stdout",
     "output_type": "stream",
     "text": [
      "my name is hema latha\n"
     ]
    }
   ],
   "source": [
    "print(\"my name is %s %s\" % (\"hema\",\"latha\"))"
   ]
  },
  {
   "cell_type": "code",
   "execution_count": 9,
   "id": "a0ebba66",
   "metadata": {},
   "outputs": [
    {
     "name": "stdout",
     "output_type": "stream",
     "text": [
      "my name is hema i am 20 years old born in 2004\n"
     ]
    }
   ],
   "source": [
    "print(\"my name is %s i am %d years old born in %d\" % (\"hema\",20,2004))"
   ]
  },
  {
   "cell_type": "code",
   "execution_count": 10,
   "id": "7445e6bf",
   "metadata": {},
   "outputs": [
    {
     "ename": "TypeError",
     "evalue": "%d format: a real number is required, not str",
     "output_type": "error",
     "traceback": [
      "\u001b[31m---------------------------------------------------------------------------\u001b[39m",
      "\u001b[31mTypeError\u001b[39m                                 Traceback (most recent call last)",
      "\u001b[36mCell\u001b[39m\u001b[36m \u001b[39m\u001b[32mIn[10]\u001b[39m\u001b[32m, line 1\u001b[39m\n\u001b[32m----> \u001b[39m\u001b[32m1\u001b[39m \u001b[38;5;28mprint\u001b[39m(\u001b[33;43m\"\u001b[39;49m\u001b[33;43mmy name is \u001b[39;49m\u001b[38;5;132;43;01m%s\u001b[39;49;00m\u001b[33;43m i am \u001b[39;49m\u001b[38;5;132;43;01m%d\u001b[39;49;00m\u001b[33;43m years old born in \u001b[39;49m\u001b[38;5;132;43;01m%d\u001b[39;49;00m\u001b[33;43m\"\u001b[39;49m\u001b[43m \u001b[49m\u001b[43m%\u001b[49m\u001b[43m \u001b[49m\u001b[43m(\u001b[49m\u001b[33;43m\"\u001b[39;49m\u001b[33;43mhema\u001b[39;49m\u001b[33;43m\"\u001b[39;49m\u001b[43m,\u001b[49m\u001b[33;43m'\u001b[39;49m\u001b[33;43m20\u001b[39;49m\u001b[33;43m'\u001b[39;49m\u001b[43m,\u001b[49m\u001b[32;43m2004\u001b[39;49m\u001b[43m)\u001b[49m)\n",
      "\u001b[31mTypeError\u001b[39m: %d format: a real number is required, not str"
     ]
    }
   ],
   "source": [
    "print(\"my name is %s i am %d years old born in %d\" % (\"hema\",'20',2004))"
   ]
  },
  {
   "cell_type": "code",
   "execution_count": 12,
   "id": "af03d52f",
   "metadata": {},
   "outputs": [
    {
     "name": "stdout",
     "output_type": "stream",
     "text": [
      "my name is 'hema' i am '20' years old born in 2004\n",
      "my name is hema i am 20 years old born in 2004\n"
     ]
    }
   ],
   "source": [
    "print(\"my name is %r i am %r years old born in %r\" % (\"hema\",'20',2004))\n",
    "print(\"my name is %s i am %s years old born in %s\" % (\"hema\",'20',2004))\n"
   ]
  },
  {
   "cell_type": "code",
   "execution_count": 13,
   "id": "235201a1",
   "metadata": {},
   "outputs": [
    {
     "ename": "TypeError",
     "evalue": "not enough arguments for format string",
     "output_type": "error",
     "traceback": [
      "\u001b[31m---------------------------------------------------------------------------\u001b[39m",
      "\u001b[31mTypeError\u001b[39m                                 Traceback (most recent call last)",
      "\u001b[36mCell\u001b[39m\u001b[36m \u001b[39m\u001b[32mIn[13]\u001b[39m\u001b[32m, line 1\u001b[39m\n\u001b[32m----> \u001b[39m\u001b[32m1\u001b[39m \u001b[38;5;28mprint\u001b[39m(\u001b[33;43m\"\u001b[39;49m\u001b[33;43mmy name is \u001b[39;49m\u001b[38;5;132;43;01m%r\u001b[39;49;00m\u001b[33;43m i am \u001b[39;49m\u001b[38;5;132;43;01m%r\u001b[39;49;00m\u001b[33;43m years old born in \u001b[39;49m\u001b[38;5;132;43;01m%r\u001b[39;49;00m\u001b[33;43m\"\u001b[39;49m\u001b[43m \u001b[49m\u001b[43m%\u001b[49m\u001b[43m \u001b[49m\u001b[43m(\u001b[49m\u001b[33;43m\"\u001b[39;49m\u001b[33;43mhema\u001b[39;49m\u001b[33;43m\"\u001b[39;49m\u001b[43m,\u001b[49m\u001b[33;43m'\u001b[39;49m\u001b[33;43m20\u001b[39;49m\u001b[33;43m'\u001b[39;49m\u001b[43m)\u001b[49m)\n",
      "\u001b[31mTypeError\u001b[39m: not enough arguments for format string"
     ]
    }
   ],
   "source": [
    "print(\"my name is %r i am %r years old born in %r\" % (\"hema\",'20'))"
   ]
  },
  {
   "cell_type": "markdown",
   "id": "20bfa57e",
   "metadata": {},
   "source": [
    "new style string formating"
   ]
  },
  {
   "cell_type": "code",
   "execution_count": 14,
   "id": "284414e8",
   "metadata": {},
   "outputs": [
    {
     "name": "stdout",
     "output_type": "stream",
     "text": [
      "\n"
     ]
    }
   ],
   "source": [
    "print(\"{}\".format(\"\"))"
   ]
  },
  {
   "cell_type": "code",
   "execution_count": 15,
   "id": "25a534ac",
   "metadata": {},
   "outputs": [
    {
     "name": "stdout",
     "output_type": "stream",
     "text": [
      "hema\n",
      "{}\n",
      "{hema}\n"
     ]
    }
   ],
   "source": [
    "print(\"{}\".format(\"hema\"))\n",
    "print(\"{{}}\".format(\"hema\"))\n",
    "print(\"{{{}}}\".format(\"hema\"))"
   ]
  },
  {
   "cell_type": "code",
   "execution_count": 18,
   "id": "71ac75cf",
   "metadata": {},
   "outputs": [
    {
     "name": "stdout",
     "output_type": "stream",
     "text": [
      "hema and latha\n",
      "122 and True\n",
      "hema and None\n",
      "12.34 and latha\n"
     ]
    }
   ],
   "source": [
    "print(\"{} and {}\".format(\"hema\",\"latha\"))\n",
    "print(\"{} and {}\".format(122,True))\n",
    "print(\"{} and {}\".format(\"hema\",None))\n",
    "print(\"{} and {}\".format(12.34,\"latha\")) \n",
    "\n",
    "#less focuses on the data type"
   ]
  },
  {
   "cell_type": "code",
   "execution_count": null,
   "id": "ea3dc0c7",
   "metadata": {},
   "outputs": [
    {
     "name": "stdout",
     "output_type": "stream",
     "text": [
      "hema and latha\n",
      "hema and latha\n",
      "latha and hema\n"
     ]
    }
   ],
   "source": [
    "print(\"{} and {}\".format(\"hema\",\"latha\"))\n",
    "print(\"{0} and {1}\".format(\"hema\",\"latha\"))\n",
    "print(\"{1} and {0}\".format(\"hema\",\"latha\"))\n",
    "\n",
    "#order can be specified\n"
   ]
  },
  {
   "cell_type": "code",
   "execution_count": 20,
   "id": "7735635e",
   "metadata": {},
   "outputs": [
    {
     "ename": "IndexError",
     "evalue": "Replacement index 1 out of range for positional args tuple",
     "output_type": "error",
     "traceback": [
      "\u001b[31m---------------------------------------------------------------------------\u001b[39m",
      "\u001b[31mIndexError\u001b[39m                                Traceback (most recent call last)",
      "\u001b[36mCell\u001b[39m\u001b[36m \u001b[39m\u001b[32mIn[20]\u001b[39m\u001b[32m, line 1\u001b[39m\n\u001b[32m----> \u001b[39m\u001b[32m1\u001b[39m \u001b[38;5;28mprint\u001b[39m(\u001b[33;43m\"\u001b[39;49m\u001b[38;5;132;43;01m{}\u001b[39;49;00m\u001b[33;43m and \u001b[39;49m\u001b[38;5;132;43;01m{}\u001b[39;49;00m\u001b[33;43m\"\u001b[39;49m\u001b[43m.\u001b[49m\u001b[43mformat\u001b[49m\u001b[43m(\u001b[49m\u001b[33;43m\"\u001b[39;49m\u001b[33;43mhema\u001b[39;49m\u001b[33;43m\"\u001b[39;49m\u001b[43m)\u001b[49m)\n",
      "\u001b[31mIndexError\u001b[39m: Replacement index 1 out of range for positional args tuple"
     ]
    }
   ],
   "source": [
    "print(\"{} and {}\".format(\"hema\"))"
   ]
  },
  {
   "cell_type": "code",
   "execution_count": 21,
   "id": "bebb1df8",
   "metadata": {},
   "outputs": [
    {
     "name": "stdout",
     "output_type": "stream",
     "text": [
      "hema and hema\n"
     ]
    }
   ],
   "source": [
    "print(\"{0} and {0}\".format(\"hema\"))"
   ]
  },
  {
   "cell_type": "code",
   "execution_count": 22,
   "id": "108e58e3",
   "metadata": {},
   "outputs": [
    {
     "name": "stdout",
     "output_type": "stream",
     "text": [
      "12323456789.0\n",
      "12323456789.0\n",
      "12,323,456,789.0\n",
      "12_323_456_789.0\n",
      "12323456789.0\n",
      "+12323456789.0\n",
      "-12323456789.0\n"
     ]
    }
   ],
   "source": [
    "print(\"{}\".format(12323456789.00))\n",
    "print(\"{:}\".format(12323456789.00))\n",
    "print(\"{:,}\".format(12323456789.00))\n",
    "print(\"{:_}\".format(12323456789.00))\n",
    "print(\"{:-}\".format(12323456789.00))\n",
    "print(\"{:+}\".format(12323456789.00))\n",
    "print(\"{:+}\".format(-12323456789.00))"
   ]
  },
  {
   "cell_type": "code",
   "execution_count": 24,
   "id": "65eb6434",
   "metadata": {},
   "outputs": [
    {
     "name": "stdout",
     "output_type": "stream",
     "text": [
      "     12345\n",
      "0000012345\n",
      "aaaaa12345\n"
     ]
    }
   ],
   "source": [
    "print(\"{:=10}\".format(12345))\n",
    "print(\"{:0=10}\".format(12345))\n",
    "print(\"{:a=10}\".format(12345))\n"
   ]
  },
  {
   "cell_type": "code",
   "execution_count": null,
   "id": "ec8043d1",
   "metadata": {},
   "outputs": [
    {
     "name": "stdout",
     "output_type": "stream",
     "text": [
      "12345               \n",
      "               12345\n",
      "       12345        \n"
     ]
    }
   ],
   "source": [
    "print(\"{:<20}\".format(12345)) #left\n",
    "print(\"{:>20}\".format(12345)) #right\n",
    "print(\"{:^20}\".format(12345)) #center\n",
    "\n"
   ]
  },
  {
   "cell_type": "code",
   "execution_count": null,
   "id": "ce57569c",
   "metadata": {},
   "outputs": [
    {
     "name": "stdout",
     "output_type": "stream",
     "text": [
      "12345_______________\n",
      "---------------12345\n",
      "*******12345********\n"
     ]
    }
   ],
   "source": [
    "print(\"{:_<20}\".format(12345)) #left\n",
    "print(\"{:->20}\".format(12345)) #right\n",
    "print(\"{:*^20}\".format(12345)) #center\n",
    "\n",
    "#with fill value\n"
   ]
  },
  {
   "cell_type": "code",
   "execution_count": null,
   "id": "8ee5eb83",
   "metadata": {},
   "outputs": [
    {
     "name": "stdout",
     "output_type": "stream",
     "text": [
      "12345\n",
      "11000000111001\n",
      "30071\n",
      "3039\n"
     ]
    }
   ],
   "source": [
    "print(\"{:}\".format(12345)) \n",
    "print(\"{:b}\".format(12345)) #binary\n",
    "print(\"{:o}\".format(12345)) #oct\n",
    "print(\"{:x}\".format(12345)) #hexadecimal\n",
    "\n"
   ]
  },
  {
   "cell_type": "code",
   "execution_count": 29,
   "id": "bc688e73",
   "metadata": {},
   "outputs": [
    {
     "name": "stdout",
     "output_type": "stream",
     "text": [
      " dear hema \n",
      " having account number 1234 your amount 20000 has been credited in 5min\n"
     ]
    }
   ],
   "source": [
    "result = {\n",
    "    \"customer\": \"hema\",\n",
    "    \"bank\" : 1234,\n",
    "    \"transaction_amount\" : 20000,\n",
    "    \"transaction_time\" : \"5min\"\n",
    "\n",
    "}\n",
    "\n",
    "print(\" dear {customer} \\n having account number {bank} your amount {transaction_amount} has been credited in {transaction_time}\".format(**result))"
   ]
  }
 ],
 "metadata": {
  "kernelspec": {
   "display_name": "Python 3",
   "language": "python",
   "name": "python3"
  },
  "language_info": {
   "codemirror_mode": {
    "name": "ipython",
    "version": 3
   },
   "file_extension": ".py",
   "mimetype": "text/x-python",
   "name": "python",
   "nbconvert_exporter": "python",
   "pygments_lexer": "ipython3",
   "version": "3.12.1"
  }
 },
 "nbformat": 4,
 "nbformat_minor": 5
}
