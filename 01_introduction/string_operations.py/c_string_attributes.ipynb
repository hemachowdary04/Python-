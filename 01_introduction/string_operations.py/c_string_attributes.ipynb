{
 "cells": [
  {
   "cell_type": "code",
   "execution_count": 1,
   "id": "103f1dbf",
   "metadata": {},
   "outputs": [
    {
     "name": "stdout",
     "output_type": "stream",
     "text": [
      "language :  python programming\n",
      "type(language) :  <class 'str'>\n",
      "id(language) :  134143707675440\n",
      "len(language) :  18\n"
     ]
    }
   ],
   "source": [
    "language = \"python programming\"\n",
    "print(\"language : \",language)\n",
    "print(\"type(language) : \",type(language))\n",
    "print(\"id(language) : \",id(language))\n",
    "print(\"len(language) : \",len(language))\n",
    "\n"
   ]
  },
  {
   "cell_type": "code",
   "execution_count": 2,
   "id": "182bffb7",
   "metadata": {},
   "outputs": [
    {
     "name": "stdout",
     "output_type": "stream",
     "text": [
      "dir(language) :  ['__add__', '__class__', '__contains__', '__delattr__', '__dir__', '__doc__', '__eq__', '__format__', '__ge__', '__getattribute__', '__getitem__', '__getnewargs__', '__getstate__', '__gt__', '__hash__', '__init__', '__init_subclass__', '__iter__', '__le__', '__len__', '__lt__', '__mod__', '__mul__', '__ne__', '__new__', '__reduce__', '__reduce_ex__', '__repr__', '__rmod__', '__rmul__', '__setattr__', '__sizeof__', '__str__', '__subclasshook__', 'capitalize', 'casefold', 'center', 'count', 'encode', 'endswith', 'expandtabs', 'find', 'format', 'format_map', 'index', 'isalnum', 'isalpha', 'isascii', 'isdecimal', 'isdigit', 'isidentifier', 'islower', 'isnumeric', 'isprintable', 'isspace', 'istitle', 'isupper', 'join', 'ljust', 'lower', 'lstrip', 'maketrans', 'partition', 'removeprefix', 'removesuffix', 'replace', 'rfind', 'rindex', 'rjust', 'rpartition', 'rsplit', 'rstrip', 'split', 'splitlines', 'startswith', 'strip', 'swapcase', 'title', 'translate', 'upper', 'zfill']\n"
     ]
    }
   ],
   "source": [
    "print(\"dir(language) : \",dir(language))"
   ]
  },
  {
   "cell_type": "code",
   "execution_count": 3,
   "id": "ac15d598",
   "metadata": {},
   "outputs": [
    {
     "data": {
      "text/plain": [
       "'python programming'"
      ]
     },
     "execution_count": 3,
     "metadata": {},
     "output_type": "execute_result"
    }
   ],
   "source": [
    "language"
   ]
  },
  {
   "cell_type": "code",
   "execution_count": 4,
   "id": "154bff65",
   "metadata": {},
   "outputs": [
    {
     "data": {
      "text/plain": [
       "['__add__',\n",
       " '__class__',\n",
       " '__contains__',\n",
       " '__delattr__',\n",
       " '__dir__',\n",
       " '__doc__',\n",
       " '__eq__',\n",
       " '__format__',\n",
       " '__ge__',\n",
       " '__getattribute__',\n",
       " '__getitem__',\n",
       " '__getnewargs__',\n",
       " '__getstate__',\n",
       " '__gt__',\n",
       " '__hash__',\n",
       " '__init__',\n",
       " '__init_subclass__',\n",
       " '__iter__',\n",
       " '__le__',\n",
       " '__len__',\n",
       " '__lt__',\n",
       " '__mod__',\n",
       " '__mul__',\n",
       " '__ne__',\n",
       " '__new__',\n",
       " '__reduce__',\n",
       " '__reduce_ex__',\n",
       " '__repr__',\n",
       " '__rmod__',\n",
       " '__rmul__',\n",
       " '__setattr__',\n",
       " '__sizeof__',\n",
       " '__str__',\n",
       " '__subclasshook__',\n",
       " 'capitalize',\n",
       " 'casefold',\n",
       " 'center',\n",
       " 'count',\n",
       " 'encode',\n",
       " 'endswith',\n",
       " 'expandtabs',\n",
       " 'find',\n",
       " 'format',\n",
       " 'format_map',\n",
       " 'index',\n",
       " 'isalnum',\n",
       " 'isalpha',\n",
       " 'isascii',\n",
       " 'isdecimal',\n",
       " 'isdigit',\n",
       " 'isidentifier',\n",
       " 'islower',\n",
       " 'isnumeric',\n",
       " 'isprintable',\n",
       " 'isspace',\n",
       " 'istitle',\n",
       " 'isupper',\n",
       " 'join',\n",
       " 'ljust',\n",
       " 'lower',\n",
       " 'lstrip',\n",
       " 'maketrans',\n",
       " 'partition',\n",
       " 'removeprefix',\n",
       " 'removesuffix',\n",
       " 'replace',\n",
       " 'rfind',\n",
       " 'rindex',\n",
       " 'rjust',\n",
       " 'rpartition',\n",
       " 'rsplit',\n",
       " 'rstrip',\n",
       " 'split',\n",
       " 'splitlines',\n",
       " 'startswith',\n",
       " 'strip',\n",
       " 'swapcase',\n",
       " 'title',\n",
       " 'translate',\n",
       " 'upper',\n",
       " 'zfill']"
      ]
     },
     "execution_count": 4,
     "metadata": {},
     "output_type": "execute_result"
    }
   ],
   "source": [
    "dir(language)"
   ]
  },
  {
   "cell_type": "code",
   "execution_count": 5,
   "id": "f302cc42",
   "metadata": {},
   "outputs": [
    {
     "name": "stdout",
     "output_type": "stream",
     "text": [
      "tajmahal\n"
     ]
    }
   ],
   "source": [
    "#string conactention\n",
    "str1 = \"taj\"\n",
    "str2 = \"mahal\"\n",
    "result = str1 + str2\n",
    "print(result)"
   ]
  },
  {
   "cell_type": "code",
   "execution_count": 6,
   "id": "7bd1e7fe",
   "metadata": {},
   "outputs": [
    {
     "name": "stdout",
     "output_type": "stream",
     "text": [
      "tajmahal\n"
     ]
    }
   ],
   "source": [
    "result = str1.__add__(str2)\n",
    "print(result)"
   ]
  },
  {
   "cell_type": "code",
   "execution_count": 8,
   "id": "8c9e6e41",
   "metadata": {},
   "outputs": [
    {
     "name": "stdout",
     "output_type": "stream",
     "text": [
      "len(language) :  18\n",
      "language.__len__ :  18\n"
     ]
    }
   ],
   "source": [
    "print(\"len(language) : \",len(language))\n",
    "print(\"language.__len__ : \",language.__len__())\n"
   ]
  },
  {
   "cell_type": "code",
   "execution_count": 9,
   "id": "902a2824",
   "metadata": {},
   "outputs": [
    {
     "name": "stdout",
     "output_type": "stream",
     "text": [
      "tajtajtajtajtaj\n"
     ]
    }
   ],
   "source": [
    "#string repetition\n",
    "result= str1 * 5\n",
    "print(result)"
   ]
  },
  {
   "cell_type": "code",
   "execution_count": 10,
   "id": "014321f0",
   "metadata": {},
   "outputs": [
    {
     "name": "stdout",
     "output_type": "stream",
     "text": [
      "tajtajtajtajtaj\n"
     ]
    }
   ],
   "source": [
    "result= str1.__mul__(5)\n",
    "print(result)"
   ]
  },
  {
   "cell_type": "code",
   "execution_count": 11,
   "id": "7e77b794",
   "metadata": {},
   "outputs": [
    {
     "name": "stdout",
     "output_type": "stream",
     "text": [
      "str(language) :  python programming\n",
      "language.__str__ :  python programming\n"
     ]
    }
   ],
   "source": [
    "print(\"str(language) : \",str(language))\n",
    "print(\"language.__str__ : \",language.__str__())\n"
   ]
  },
  {
   "cell_type": "code",
   "execution_count": 12,
   "id": "be4f4d84",
   "metadata": {},
   "outputs": [
    {
     "name": "stdout",
     "output_type": "stream",
     "text": [
      "repr(language) :  'python programming'\n",
      "language.__repr__ :  'python programming'\n"
     ]
    }
   ],
   "source": [
    "print(\"repr(language) : \",repr(language))\n",
    "print(\"language.__repr__ : \",language.__repr__())\n"
   ]
  },
  {
   "cell_type": "code",
   "execution_count": 14,
   "id": "b1457782",
   "metadata": {},
   "outputs": [
    {
     "name": "stdout",
     "output_type": "stream",
     "text": [
      "language :  python programming\n",
      "language.capitalise :  Python programming\n",
      "language.upper :  PYTHON PROGRAMMING\n",
      "language.lower :  python programming\n",
      "language.title :  Python Programming\n",
      "language.swapcase :  PYTHON PROGRAMMING\n"
     ]
    }
   ],
   "source": [
    "#converters\n",
    "language = \"python programming\"\n",
    "print(\"language : \",language)\n",
    "print(\"language.capitalise : \",language.capitalize())\n",
    "print(\"language.upper : \",language.upper())\n",
    "print(\"language.lower : \",language.lower())\n",
    "print(\"language.title : \",language.title())\n",
    "print(\"language.swapcase : \",language.swapcase())\n",
    "\n",
    "\n"
   ]
  },
  {
   "cell_type": "code",
   "execution_count": null,
   "id": "a0dab988",
   "metadata": {},
   "outputs": [
    {
     "name": "stdout",
     "output_type": "stream",
     "text": [
      "language :  python programming\n",
      "language.istitle :  False\n"
     ]
    }
   ],
   "source": [
    "#checks\n",
    "print(\"language : \",language)\n",
    "print(\"language.istitle : \",language.istitle())"
   ]
  },
  {
   "cell_type": "code",
   "execution_count": 17,
   "id": "6269c15c",
   "metadata": {},
   "outputs": [
    {
     "name": "stdout",
     "output_type": "stream",
     "text": [
      "1234.isdigit :  True\n"
     ]
    }
   ],
   "source": [
    "print(\"1234.isdigit : \",\"1234\".isdigit())"
   ]
  },
  {
   "cell_type": "code",
   "execution_count": 18,
   "id": "2b4faeaf",
   "metadata": {},
   "outputs": [
    {
     "name": "stdout",
     "output_type": "stream",
     "text": [
      "abcd.isdigit :  True\n"
     ]
    }
   ],
   "source": [
    "print(\"abcd.isdigit : \",\"abcd\".isalpha())"
   ]
  },
  {
   "cell_type": "code",
   "execution_count": 19,
   "id": "49ac2b35",
   "metadata": {},
   "outputs": [
    {
     "name": "stdout",
     "output_type": "stream",
     "text": [
      "abcd12.isdigit :  True\n"
     ]
    }
   ],
   "source": [
    "#alphanumerc\n",
    "print(\"abcd12.isdigit : \",\"abcd12\".isalnum())"
   ]
  },
  {
   "cell_type": "code",
   "execution_count": 20,
   "id": "fc591073",
   "metadata": {},
   "outputs": [
    {
     "name": "stdout",
     "output_type": "stream",
     "text": [
      " .isdigit :  True\n",
      " a.isdigit :  False\n"
     ]
    }
   ],
   "source": [
    "print(\" .isdigit : \",\" \".isspace())\n",
    "print(\" a.isdigit : \",\" a\".isspace())"
   ]
  },
  {
   "cell_type": "code",
   "execution_count": 23,
   "id": "6e8611ec",
   "metadata": {},
   "outputs": [
    {
     "name": "stdout",
     "output_type": "stream",
     "text": [
      " a .isdigit :  True\n",
      " \\n.isdigit :  False\n"
     ]
    }
   ],
   "source": [
    "print(\" a .isdigit : \",\"a\".isprintable())\n",
    "print(r\" \\n.isdigit : \",\"\\n\".isprintable())"
   ]
  },
  {
   "cell_type": "code",
   "execution_count": 26,
   "id": "36d0c2e9",
   "metadata": {},
   "outputs": [
    {
     "name": "stdout",
     "output_type": "stream",
     "text": [
      "language :  python programming\n",
      "language.find :  2\n"
     ]
    }
   ],
   "source": [
    "print(\"language : \",language)\n",
    "print(\"language.find : \",language.find(\"t\"))"
   ]
  },
  {
   "cell_type": "code",
   "execution_count": 27,
   "id": "7048915a",
   "metadata": {},
   "outputs": [
    {
     "name": "stdout",
     "output_type": "stream",
     "text": [
      "language :  python programming\n",
      "language.find :  5\n",
      "language.rfind :  16\n"
     ]
    }
   ],
   "source": [
    "print(\"language : \",language)\n",
    "print(\"language.find : \",language.find(\"n\"))\n",
    "print(\"language.rfind : \",language.rfind(\"n\"))"
   ]
  },
  {
   "cell_type": "code",
   "execution_count": 28,
   "id": "ed4ef368",
   "metadata": {},
   "outputs": [
    {
     "name": "stdout",
     "output_type": "stream",
     "text": [
      "language.find :  16\n"
     ]
    }
   ],
   "source": [
    "print(\"language.find : \",language.find(\"n\",6))"
   ]
  },
  {
   "cell_type": "code",
   "execution_count": 29,
   "id": "df4e2d06",
   "metadata": {},
   "outputs": [
    {
     "name": "stdout",
     "output_type": "stream",
     "text": [
      "language.find :  7\n",
      "language.find :  7\n"
     ]
    }
   ],
   "source": [
    "print(\"language.find : \",language.find(\"prog\"))\n",
    "print(\"language.find : \",language.rfind(\"prog\"))"
   ]
  },
  {
   "cell_type": "code",
   "execution_count": 30,
   "id": "aa27a97e",
   "metadata": {},
   "outputs": [
    {
     "name": "stdout",
     "output_type": "stream",
     "text": [
      " python production \n"
     ]
    }
   ],
   "source": [
    "#str.strip()\n",
    "print(\" python production \")"
   ]
  },
  {
   "cell_type": "code",
   "execution_count": 31,
   "id": "bcf24df9",
   "metadata": {},
   "outputs": [
    {
     "data": {
      "text/plain": [
       "' python production '"
      ]
     },
     "execution_count": 31,
     "metadata": {},
     "output_type": "execute_result"
    }
   ],
   "source": [
    "\" python production \""
   ]
  },
  {
   "cell_type": "code",
   "execution_count": 32,
   "id": "bb0b482f",
   "metadata": {},
   "outputs": [
    {
     "data": {
      "text/plain": [
       "'python production '"
      ]
     },
     "execution_count": 32,
     "metadata": {},
     "output_type": "execute_result"
    }
   ],
   "source": [
    "\" python production \".lstrip()"
   ]
  },
  {
   "cell_type": "code",
   "execution_count": 33,
   "id": "aad5291e",
   "metadata": {},
   "outputs": [
    {
     "data": {
      "text/plain": [
       "' python production'"
      ]
     },
     "execution_count": 33,
     "metadata": {},
     "output_type": "execute_result"
    }
   ],
   "source": [
    "\" python production \".rstrip()"
   ]
  },
  {
   "cell_type": "code",
   "execution_count": 34,
   "id": "9fcec659",
   "metadata": {},
   "outputs": [
    {
     "data": {
      "text/plain": [
       "'python production'"
      ]
     },
     "execution_count": 34,
     "metadata": {},
     "output_type": "execute_result"
    }
   ],
   "source": [
    "\" python production \".strip()"
   ]
  },
  {
   "cell_type": "code",
   "execution_count": 35,
   "id": "cddc026a",
   "metadata": {},
   "outputs": [
    {
     "data": {
      "text/plain": [
       "''"
      ]
     },
     "execution_count": 35,
     "metadata": {},
     "output_type": "execute_result"
    }
   ],
   "source": [
    "\"aaaaaaaaaaaaaaaaaaaaaa\".strip(\"a\")"
   ]
  },
  {
   "cell_type": "code",
   "execution_count": 36,
   "id": "ff4c8a0b",
   "metadata": {},
   "outputs": [
    {
     "data": {
      "text/plain": [
       "' b '"
      ]
     },
     "execution_count": 36,
     "metadata": {},
     "output_type": "execute_result"
    }
   ],
   "source": [
    "\"aaaaaaaaaaaa b aaaaaaaaaa\".strip('ab')"
   ]
  },
  {
   "cell_type": "code",
   "execution_count": 37,
   "id": "423fcec7",
   "metadata": {},
   "outputs": [
    {
     "data": {
      "text/plain": [
       "''"
      ]
     },
     "execution_count": 37,
     "metadata": {},
     "output_type": "execute_result"
    }
   ],
   "source": [
    "\"aaaaaaaaaa b aaaaaaaaa\".strip(\"ab \")"
   ]
  },
  {
   "cell_type": "code",
   "execution_count": 40,
   "id": "8a1d5362",
   "metadata": {},
   "outputs": [
    {
     "name": "stdout",
     "output_type": "stream",
     "text": [
      "0000123\n",
      "0123\n"
     ]
    }
   ],
   "source": [
    "print(\"123\".zfill(7))\n",
    "print(\"123\".zfill(4))"
   ]
  },
  {
   "cell_type": "code",
   "execution_count": 42,
   "id": "72d9eebc",
   "metadata": {},
   "outputs": [
    {
     "name": "stdout",
     "output_type": "stream",
     "text": [
      "['python', 'production']\n",
      "['python p', 'oduction']\n",
      "['p', 'thon production']\n"
     ]
    }
   ],
   "source": [
    "print(\"python production\".split())\n",
    "print(\"python production\".split(\"r\"))\n",
    "print(\"python production\".split(\"y\"))"
   ]
  }
 ],
 "metadata": {
  "kernelspec": {
   "display_name": "Python 3",
   "language": "python",
   "name": "python3"
  },
  "language_info": {
   "codemirror_mode": {
    "name": "ipython",
    "version": 3
   },
   "file_extension": ".py",
   "mimetype": "text/x-python",
   "name": "python",
   "nbconvert_exporter": "python",
   "pygments_lexer": "ipython3",
   "version": "3.12.1"
  }
 },
 "nbformat": 4,
 "nbformat_minor": 5
}
