{
 "cells": [
  {
   "cell_type": "code",
   "execution_count": 1,
   "id": "c2a8c660",
   "metadata": {},
   "outputs": [
    {
     "name": "stdout",
     "output_type": "stream",
     "text": [
      "12 <class 'type'>\n"
     ]
    }
   ],
   "source": [
    "num = 12\n",
    "print(num,type)"
   ]
  },
  {
   "cell_type": "code",
   "execution_count": 1,
   "id": "ebf26cb8",
   "metadata": {},
   "outputs": [
    {
     "data": {
      "text/plain": [
       "['1', '2', '3', '4', '1', '2', '3', '4', '1', '2', '3', '4']"
      ]
     },
     "execution_count": 1,
     "metadata": {},
     "output_type": "execute_result"
    }
   ],
   "source": [
    "list(\"123412341234\")"
   ]
  },
  {
   "cell_type": "code",
   "execution_count": 2,
   "id": "c489e417",
   "metadata": {},
   "outputs": [
    {
     "data": {
      "text/plain": [
       "('1', '2', '3', '4', '1', '2', '3', '4', '1', '2', '3', '4')"
      ]
     },
     "execution_count": 2,
     "metadata": {},
     "output_type": "execute_result"
    }
   ],
   "source": [
    "tuple(\"123412341234\")"
   ]
  },
  {
   "cell_type": "code",
   "execution_count": 3,
   "id": "e5d9e66b",
   "metadata": {},
   "outputs": [
    {
     "data": {
      "text/plain": [
       "{'1', '2', '3', '4'}"
      ]
     },
     "execution_count": 3,
     "metadata": {},
     "output_type": "execute_result"
    }
   ],
   "source": [
    "set(\"123412341234\")"
   ]
  },
  {
   "cell_type": "code",
   "execution_count": 4,
   "id": "26f25462",
   "metadata": {},
   "outputs": [
    {
     "data": {
      "text/plain": [
       "'pythonproductionprogram'"
      ]
     },
     "execution_count": 4,
     "metadata": {},
     "output_type": "execute_result"
    }
   ],
   "source": [
    "#list of strings into a single string\n",
    "\"python\"+\"production\"+\"program\""
   ]
  },
  {
   "cell_type": "code",
   "execution_count": 5,
   "id": "434386a9",
   "metadata": {},
   "outputs": [
    {
     "name": "stdout",
     "output_type": "stream",
     "text": [
      "python production program\n",
      "python-production-program\n"
     ]
    }
   ],
   "source": [
    "print(\"python\" + \" \" + \"production\" + \" \" + \"program\")\n",
    "print(\"python\" + \"-\" + \"production\" + \"-\" + \"program\")\n"
   ]
  },
  {
   "cell_type": "code",
   "execution_count": 8,
   "id": "75affcb4",
   "metadata": {},
   "outputs": [
    {
     "data": {
      "text/plain": [
       "'python production program'"
      ]
     },
     "execution_count": 8,
     "metadata": {},
     "output_type": "execute_result"
    }
   ],
   "source": [
    "' '.join([\"python\",\"production\",\"program\"])\n",
    "#join works only when the list is passed inside"
   ]
  },
  {
   "cell_type": "code",
   "execution_count": 10,
   "id": "e8765bd2",
   "metadata": {},
   "outputs": [
    {
     "name": "stdout",
     "output_type": "stream",
     "text": [
      "rython rroduction\n",
      "python catuction\n",
      "python production\n"
     ]
    }
   ],
   "source": [
    "#.replace\n",
    "print(\"python production\".replace(\"p\",\"r\"))\n",
    "print(\"python production\".replace(\"prod\",\"cat\"))\n",
    "\n",
    "print(\"python production\".replace(\"prod1\",\"cat\"))\n"
   ]
  },
  {
   "cell_type": "code",
   "execution_count": 12,
   "id": "1e6a42fb",
   "metadata": {},
   "outputs": [
    {
     "data": {
      "text/plain": [
       "'bbaaaaaaaaaaaa'"
      ]
     },
     "execution_count": 12,
     "metadata": {},
     "output_type": "execute_result"
    }
   ],
   "source": [
    "\"aaaaaaaaaaaaaa\".replace(\"a\",\"b\")\n",
    "\"aaaaaaaaaaaaaa\".replace(\"a\",\"b\",2)\n"
   ]
  },
  {
   "cell_type": "code",
   "execution_count": 22,
   "id": "4f573835",
   "metadata": {},
   "outputs": [
    {
     "name": "stdout",
     "output_type": "stream",
     "text": [
      "('', 'a', 'aaaaaaaaaaaaa')\n"
     ]
    }
   ],
   "source": [
    "print(\"aaaaaaaaaaaaaa\".partition(\"a\"))"
   ]
  },
  {
   "cell_type": "code",
   "execution_count": 24,
   "id": "eed0e7b4",
   "metadata": {},
   "outputs": [
    {
     "name": "stdout",
     "output_type": "stream",
     "text": [
      "          python         \n",
      "----------python---------\n"
     ]
    }
   ],
   "source": [
    "print(\"python\".center(25))\n",
    "print(\"python\".center(25,\"-\"))"
   ]
  },
  {
   "cell_type": "code",
   "execution_count": 25,
   "id": "fc270414",
   "metadata": {},
   "outputs": [
    {
     "name": "stdout",
     "output_type": "stream",
     "text": [
      "python                   \n",
      "python-------------------\n"
     ]
    }
   ],
   "source": [
    "print(\"python\".ljust(25))\n",
    "print(\"python\".ljust(25,\"-\"))"
   ]
  },
  {
   "cell_type": "code",
   "execution_count": 26,
   "id": "150f1d59",
   "metadata": {},
   "outputs": [
    {
     "name": "stdout",
     "output_type": "stream",
     "text": [
      "                   python\n",
      "-------------------python\n"
     ]
    }
   ],
   "source": [
    "print(\"python\".rjust(25))\n",
    "print(\"python\".rjust(25,\"-\"))"
   ]
  }
 ],
 "metadata": {
  "kernelspec": {
   "display_name": "Python 3",
   "language": "python",
   "name": "python3"
  },
  "language_info": {
   "codemirror_mode": {
    "name": "ipython",
    "version": 3
   },
   "file_extension": ".py",
   "mimetype": "text/x-python",
   "name": "python",
   "nbconvert_exporter": "python",
   "pygments_lexer": "ipython3",
   "version": "3.12.1"
  }
 },
 "nbformat": 4,
 "nbformat_minor": 5
}
